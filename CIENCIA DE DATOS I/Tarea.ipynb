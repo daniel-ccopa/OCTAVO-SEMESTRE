{
 "cells": [
  {
   "cell_type": "markdown",
   "id": "1bb43ba0",
   "metadata": {},
   "source": [
    "# HTTP Operations with Custom Headers, Cookies, and Sessions\n",
    "This notebook demonstrates how to perform HTTP operations using the `requests` library, including sending custom headers, setting cookies, and maintaining sessions."
   ]
  },
  {
   "cell_type": "markdown",
   "id": "abbc8bc8",
   "metadata": {},
   "source": [
    "## Import Required Libraries\n",
    "Import the `requests` library for HTTP operations."
   ]
  },
  {
   "cell_type": "code",
   "execution_count": 1,
   "id": "e35c18fa",
   "metadata": {},
   "outputs": [],
   "source": [
    "# Import Required Libraries\n",
    "import requests"
   ]
  },
  {
   "cell_type": "markdown",
   "id": "a4525d87",
   "metadata": {},
   "source": [
    "## Access the Site\n",
    "Use the `requests` library to send a GET request to `https://httpbin.org`."
   ]
  },
  {
   "cell_type": "code",
   "execution_count": 2,
   "id": "0450649d",
   "metadata": {},
   "outputs": [
    {
     "name": "stdout",
     "output_type": "stream",
     "text": [
      "Status Code: 200\n",
      "Response Text (First 100 Characters): <!DOCTYPE html>\n",
      "<html lang=\"en\">\n",
      "\n",
      "<head>\n",
      "    <meta charset=\"UTF-8\">\n",
      "    <title>httpbin.org</title>\n",
      " \n"
     ]
    }
   ],
   "source": [
    "# Access the Site\n",
    "url = \"https://httpbin.org\"\n",
    "response = requests.get(url)\n",
    "print(f\"Status Code: {response.status_code}\")\n",
    "print(f\"Response Text (First 100 Characters): {response.text[:100]}\")"
   ]
  },
  {
   "cell_type": "markdown",
   "id": "89bf25a7",
   "metadata": {},
   "source": [
    "## Send a Custom Header\n",
    "Include a custom `User-Agent` header in the GET request."
   ]
  },
  {
   "cell_type": "code",
   "execution_count": null,
   "id": "2a2c8b5b",
   "metadata": {},
   "outputs": [],
   "source": [
    "# Send a Custom Header\n",
    "headers = {\"User-Agent\": \"MyCustomAgent/1.0\"}\n",
    "response_with_header = requests.get(url, headers=headers)\n",
    "print(f\"Custom Header Response: {response_with_header.json()}\")"
   ]
  },
  {
   "cell_type": "markdown",
   "id": "4afc3a6a",
   "metadata": {},
   "source": [
    "## Set a Custom Cookie\n",
    "Define a custom cookie and send it with the GET request."
   ]
  },
  {
   "cell_type": "code",
   "execution_count": null,
   "id": "e08e430e",
   "metadata": {},
   "outputs": [],
   "source": [
    "# Set a Custom Cookie\n",
    "cookies = {\"session\": \"123456\"}\n",
    "response_with_cookie = requests.get(url + \"/cookies\", cookies=cookies)\n",
    "print(f\"Custom Cookie Response: {response_with_cookie.json()}\")"
   ]
  },
  {
   "cell_type": "markdown",
   "id": "3c0c7613",
   "metadata": {},
   "source": [
    "## Use a Persistent Session\n",
    "Create a session object to maintain cookies and headers across multiple requests."
   ]
  },
  {
   "cell_type": "code",
   "execution_count": null,
   "id": "0ad75a18",
   "metadata": {},
   "outputs": [],
   "source": [
    "# Use a Persistent Session\n",
    "session = requests.Session()\n",
    "session.headers.update({\"User-Agent\": \"PersistentAgent/1.0\"})\n",
    "session.get(url + \"/cookies/set/sessioncookie/abcdef\")\n",
    "response_session = session.get(url + \"/cookies\")\n",
    "print(f\"Session Cookies Response: {response_session.json()}\")"
   ]
  },
  {
   "cell_type": "markdown",
   "id": "4c777b7e",
   "metadata": {},
   "source": [
    "## Save the Final Page Content\n",
    "Save the response content of the final page to a local file named `respuesta.html`."
   ]
  },
  {
   "cell_type": "code",
   "execution_count": null,
   "id": "2f5931c7",
   "metadata": {},
   "outputs": [],
   "source": [
    "# Save the Final Page Content\n",
    "final_response = session.get(url)\n",
    "with open(\"respuesta.html\", \"w\", encoding=\"utf-8\") as file:\n",
    "    file.write(final_response.text)\n",
    "print(\"Final page content saved to respuesta.html\")"
   ]
  }
 ],
 "metadata": {
  "kernelspec": {
   "display_name": ".octavo",
   "language": "python",
   "name": "python3"
  },
  "language_info": {
   "codemirror_mode": {
    "name": "ipython",
    "version": 3
   },
   "file_extension": ".py",
   "mimetype": "text/x-python",
   "name": "python",
   "nbconvert_exporter": "python",
   "pygments_lexer": "ipython3",
   "version": "3.13.1"
  }
 },
 "nbformat": 4,
 "nbformat_minor": 5
}
