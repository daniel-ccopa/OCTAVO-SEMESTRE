{
 "cells": [
  {
   "cell_type": "markdown",
   "id": "93191bac",
   "metadata": {},
   "source": [
    "## Request\n",
    "\n",
    "Essentially it is a widely-used library for making HTTP requests in Python made to provide you with a simplistic way to interact with APIs and web services, as well as to scrape websites and perform other HTTP-based tasks.\n",
    "\n",
    "Its intuitive API makes it easy to send HTTP requests while at the same time supporting a variety of HTTP methods, including GET, PUT, DELETE, HEAD, OPTIONS, and PATCH."
   ]
  },
  {
   "cell_type": "code",
   "execution_count": 1,
   "id": "f202c7ea",
   "metadata": {},
   "outputs": [
    {
     "name": "stdout",
     "output_type": "stream",
     "text": [
      "Requirement already satisfied: requests in d:\\una-puno\\una-semestres\\octavo semestre\\.octavo\\lib\\site-packages (2.32.3)\n",
      "Requirement already satisfied: charset-normalizer<4,>=2 in d:\\una-puno\\una-semestres\\octavo semestre\\.octavo\\lib\\site-packages (from requests) (3.4.2)\n",
      "Requirement already satisfied: idna<4,>=2.5 in d:\\una-puno\\una-semestres\\octavo semestre\\.octavo\\lib\\site-packages (from requests) (3.10)\n",
      "Requirement already satisfied: urllib3<3,>=1.21.1 in d:\\una-puno\\una-semestres\\octavo semestre\\.octavo\\lib\\site-packages (from requests) (2.4.0)\n",
      "Requirement already satisfied: certifi>=2017.4.17 in d:\\una-puno\\una-semestres\\octavo semestre\\.octavo\\lib\\site-packages (from requests) (2025.4.26)\n"
     ]
    }
   ],
   "source": [
    "#You can install requests with the following pip command:\n",
    "!pip install requests"
   ]
  },
  {
   "cell_type": "markdown",
   "id": "48ec71bf",
   "metadata": {},
   "source": [
    "**Requests development philosophy**  \n",
    "The Python Requests module is a library that strives to be as easy to use and parse as possible. Standard Python HTTP libraries are difficult to use, parse and often require significantly more statements to do the same thing."
   ]
  },
  {
   "cell_type": "code",
   "execution_count": 2,
   "id": "1b94b244",
   "metadata": {},
   "outputs": [
    {
     "name": "stdout",
     "output_type": "stream",
     "text": [
      "HTTPHeaderDict({'Date': 'Tue, 20 May 2025 18:44:58 GMT', 'Content-Type': 'application/json; charset=utf-8', 'Content-Length': '2262', 'Cache-Control': 'public, max-age=60, s-maxage=60', 'Vary': 'Accept,Accept-Encoding, Accept, X-Requested-With', 'ETag': '\"cb8c56af7fcef970136a8acacba4e16ea32ab6762dbaaddf6909fae9db2c9f5e\"', 'X-GitHub-Media-Type': 'github.v3; format=json', 'x-github-api-version-selected': '2022-11-28', 'X-RateLimit-Limit': '60', 'X-RateLimit-Remaining': '59', 'X-RateLimit-Reset': '1747770298', 'X-RateLimit-Used': '1', 'X-RateLimit-Resource': 'core', 'Access-Control-Expose-Headers': 'ETag, Link, Location, Retry-After, X-GitHub-OTP, X-RateLimit-Limit, X-RateLimit-Remaining, X-RateLimit-Used, X-RateLimit-Resource, X-RateLimit-Reset, X-OAuth-Scopes, X-Accepted-OAuth-Scopes, X-Poll-Interval, X-GitHub-Media-Type, X-GitHub-SSO, X-GitHub-Request-Id, Deprecation, Sunset', 'Access-Control-Allow-Origin': '*', 'Strict-Transport-Security': 'max-age=31536000; includeSubdomains; preload', 'X-Frame-Options': 'deny', 'X-Content-Type-Options': 'nosniff', 'X-XSS-Protection': '0', 'Referrer-Policy': 'origin-when-cross-origin, strict-origin-when-cross-origin', 'Content-Security-Policy': \"default-src 'none'\", 'X-GitHub-Request-Id': '5897:2FFA8D:F278C7:1E45C06:682CCDA9', 'Server': 'github.com'})\n",
      "b'{\"current_user_url\":\"https://api.github.com/user\",\"current_user_authorizations_html_url\":\"https://github.com/settings/connections/applications{/client_id}\",\"authorizations_url\":\"https://api.github.com/authorizations\",\"code_search_url\":\"https://api.github.com/search/code?q={query}{&page,per_page,sort,order}\",\"commit_search_url\":\"https://api.github.com/search/commits?q={query}{&page,per_page,sort,order}\",\"emails_url\":\"https://api.github.com/user/emails\",\"emojis_url\":\"https://api.github.com/emojis\",\"events_url\":\"https://api.github.com/events\",\"feeds_url\":\"https://api.github.com/feeds\",\"followers_url\":\"https://api.github.com/user/followers\",\"following_url\":\"https://api.github.com/user/following{/target}\",\"gists_url\":\"https://api.github.com/gists{/gist_id}\",\"hub_url\":\"https://api.github.com/hub\",\"issue_search_url\":\"https://api.github.com/search/issues?q={query}{&page,per_page,sort,order}\",\"issues_url\":\"https://api.github.com/issues\",\"keys_url\":\"https://api.github.com/user/keys\",\"label_search_url\":\"https://api.github.com/search/labels?q={query}&repository_id={repository_id}{&page,per_page}\",\"notifications_url\":\"https://api.github.com/notifications\",\"organization_url\":\"https://api.github.com/orgs/{org}\",\"organization_repositories_url\":\"https://api.github.com/orgs/{org}/repos{?type,page,per_page,sort}\",\"organization_teams_url\":\"https://api.github.com/orgs/{org}/teams\",\"public_gists_url\":\"https://api.github.com/gists/public\",\"rate_limit_url\":\"https://api.github.com/rate_limit\",\"repository_url\":\"https://api.github.com/repos/{owner}/{repo}\",\"repository_search_url\":\"https://api.github.com/search/repositories?q={query}{&page,per_page,sort,order}\",\"current_user_repositories_url\":\"https://api.github.com/user/repos{?type,page,per_page,sort}\",\"starred_url\":\"https://api.github.com/user/starred{/owner}{/repo}\",\"starred_gists_url\":\"https://api.github.com/gists/starred\",\"topic_search_url\":\"https://api.github.com/search/topics?q={query}{&page,per_page}\",\"user_url\":\"https://api.github.com/users/{user}\",\"user_organizations_url\":\"https://api.github.com/user/orgs\",\"user_repositories_url\":\"https://api.github.com/users/{user}/repos{?type,page,per_page,sort}\",\"user_search_url\":\"https://api.github.com/search/users?q={query}{&page,per_page,sort,order}\"}'\n"
     ]
    }
   ],
   "source": [
    "# Let’s take a look at a Urllib3 and a Requests example:\n",
    "\n",
    "import urllib3\n",
    "\n",
    "http = urllib3.PoolManager()\n",
    "gh_url = 'https://api.github.com'\n",
    "headers = urllib3.util.make_headers(user_agent= 'my-agent/1.0.1', basic_auth='abc:xyz')\n",
    "requ = http.request('GET', gh_url, headers=headers)\n",
    "print (requ.headers)\n",
    "print(requ.data)\n"
   ]
  },
  {
   "cell_type": "code",
   "execution_count": 3,
   "id": "194a83e1",
   "metadata": {},
   "outputs": [
    {
     "name": "stdout",
     "output_type": "stream",
     "text": [
      "200\n",
      "application/json; charset=utf-8\n"
     ]
    }
   ],
   "source": [
    "# Using requests\n",
    "\n",
    "import requests\n",
    "r = requests.get('https://api.github.com', auth=('user', 'pass'))\n",
    "print(r.status_code) \n",
    "print(r.headers['content-type'])"
   ]
  },
  {
   "cell_type": "markdown",
   "id": "a44d1d08",
   "metadata": {},
   "source": [
    "Not only do Requests reduce the amount of statements needed but it also makes the code significantly easier to understand and debug even for the untrained eye."
   ]
  },
  {
   "cell_type": "code",
   "execution_count": 4,
   "id": "72548803",
   "metadata": {},
   "outputs": [
    {
     "name": "stdout",
     "output_type": "stream",
     "text": [
      "Requirement already satisfied: requests in d:\\una-puno\\una-semestres\\octavo semestre\\.octavo\\lib\\site-packages (2.32.3)\n",
      "Requirement already satisfied: charset-normalizer<4,>=2 in d:\\una-puno\\una-semestres\\octavo semestre\\.octavo\\lib\\site-packages (from requests) (3.4.2)\n",
      "Requirement already satisfied: idna<4,>=2.5 in d:\\una-puno\\una-semestres\\octavo semestre\\.octavo\\lib\\site-packages (from requests) (3.10)\n",
      "Requirement already satisfied: urllib3<3,>=1.21.1 in d:\\una-puno\\una-semestres\\octavo semestre\\.octavo\\lib\\site-packages (from requests) (2.4.0)\n",
      "Requirement already satisfied: certifi>=2017.4.17 in d:\\una-puno\\una-semestres\\octavo semestre\\.octavo\\lib\\site-packages (from requests) (2025.4.26)\n"
     ]
    }
   ],
   "source": [
    "# How to install requests in Python\n",
    "! pip install requests"
   ]
  },
  {
   "cell_type": "code",
   "execution_count": 5,
   "id": "f082d8b8",
   "metadata": {},
   "outputs": [],
   "source": [
    "#In Python \"import requests\" allows us to use the library\n",
    "\n",
    "import requests"
   ]
  },
  {
   "cell_type": "markdown",
   "id": "1f68f967",
   "metadata": {},
   "source": [
    "**Python requests: GET**\n",
    "\n",
    "Out of all the possible HTTP requests, GET is the most commonly used. GET, as the name indicates, is an attempt to acquire data from a specified source (usually, a website). In order to send a GET request, invoke requests.get() in Python and add a destination URL, e.g.:"
   ]
  },
  {
   "cell_type": "code",
   "execution_count": 6,
   "id": "ece4caff",
   "metadata": {},
   "outputs": [
    {
     "name": "stdout",
     "output_type": "stream",
     "text": [
      "200\n"
     ]
    }
   ],
   "source": [
    "import requests\n",
    "r = requests.get('http://httpbin.org/')\n",
    "print(r.status_code)"
   ]
  },
  {
   "cell_type": "markdown",
   "id": "73ccfd25",
   "metadata": {},
   "source": [
    "**Code Meaning\t\tDescription**\n",
    "\n",
    "**200\tOK**\t\t\t    The request was successful ✅  \n",
    "**201\tCreated**\t\t\tA new resource was successfully created  \n",
    "**204\tNo Content**\t\tThe request was successful, but there’s no   content to send  \n",
    "**301\tMoved Permanently**\tResource moved to a different URL  \n",
    "**302\tFound**\t\t\tTemporarily redirected  \n",
    "**400\tBad Request**\t\tYou sent something wrong ❌  \n",
    "**401\tUnauthorized**\tYou need to authenticate first (e.g., login)  \n",
    "**403\tForbidden**\t\tYou’re not allowed to access this resource  \n",
    "**404\tNot Found**\t\tThe resource doesn’t exist  \n",
    "**429   The rate limit** means the client has exceeded the rate limit imposed by the server.  \n",
    "**500\tInternal Server Error**\tThe server had a problem  \n",
    "**503\tService Unavailable\tServer** is overloaded or down "
   ]
  },
  {
   "cell_type": "code",
   "execution_count": null,
   "id": "8edd1f07",
   "metadata": {},
   "outputs": [],
   "source": [
    "# example of how to handle such an error, might look like this:\n",
    "import requests\n",
    "import time\n",
    "\n",
    "response = requests.get('https://example.com/api')\n",
    "\n",
    "if response.status_code == 429:\n",
    "    retry_after = int(response.headers.get('Retry-After', 1))\n",
    "    print(f\"Rate limit exceeded. Waiting {retry_after} seconds before retrying...\")\n",
    "    time.sleep(retry_after)\n",
    "    response = requests.get('https://example.com/api')\n",
    "\n",
    "# todo esto sive para manejar el error 429 que nos indica que hemos hecho muchas peticiones a la API"
   ]
  },
  {
   "cell_type": "code",
   "execution_count": 8,
   "id": "7152152e",
   "metadata": {},
   "outputs": [
    {
     "name": "stdout",
     "output_type": "stream",
     "text": [
      "Received 429 Too Many Requests.\n",
      "Retrying after 2 seconds...\n",
      "Second attempt status: 429\n"
     ]
    }
   ],
   "source": [
    "import requests\n",
    "import time\n",
    "\n",
    "url = 'https://httpbin.org/status/429'  # Simula un 429\n",
    "response = requests.get(url)\n",
    "\n",
    "if response.status_code == 429:\n",
    "    print(\"Received 429 Too Many Requests.\")\n",
    "    retry_after = int(response.headers.get('Retry-After', 2))\n",
    "    print(f\"Retrying after {retry_after} seconds...\")\n",
    "    time.sleep(retry_after)\n",
    "    response = requests.get(url)\n",
    "    print(f\"Second attempt status: {response.status_code}\")\n"
   ]
  },
  {
   "cell_type": "markdown",
   "id": "e1a0eebd",
   "metadata": {},
   "source": [
    "GET requests can be sent with specific parameters if required. Parameters follow the same logic as if one were to construct a URL by hand. Each parameter is sent after a question mark added to the original URL and pairs are split by the ampersand (&) sign:"
   ]
  },
  {
   "cell_type": "code",
   "execution_count": 9,
   "id": "a846c0b1",
   "metadata": {},
   "outputs": [
    {
     "data": {
      "text/plain": [
       "<Response [200]>"
      ]
     },
     "execution_count": 9,
     "metadata": {},
     "output_type": "execute_result"
    }
   ],
   "source": [
    "payload = {'key1': 'value1', 'key2': 'value2'}\n",
    "requests.get('http://httpbin.org/', params=payload)"
   ]
  },
  {
   "cell_type": "code",
   "execution_count": 10,
   "id": "4f7f8288",
   "metadata": {},
   "outputs": [
    {
     "data": {
      "text/plain": [
       "'https://httpbin.org/get?key2=value2&key1=value1'"
      ]
     },
     "execution_count": 10,
     "metadata": {},
     "output_type": "execute_result"
    }
   ],
   "source": [
    "# Our URL would now be formed as:\n",
    "\"https://httpbin.org/get?key2=value2&key1=value1\""
   ]
  },
  {
   "cell_type": "markdown",
   "id": "25a42c38",
   "metadata": {},
   "source": [
    "**Reading responses**  \n",
    "In order to view the Python requests response object sent by a GET request, we should create a variable. For the sake of simplicity, let’s name it ‘response’:"
   ]
  },
  {
   "cell_type": "code",
   "execution_count": 11,
   "id": "3039b407",
   "metadata": {},
   "outputs": [],
   "source": [
    "response = requests.get('http://httpbin.org/')"
   ]
  },
  {
   "cell_type": "code",
   "execution_count": 12,
   "id": "4f679de6",
   "metadata": {},
   "outputs": [
    {
     "name": "stdout",
     "output_type": "stream",
     "text": [
      "200\n"
     ]
    }
   ],
   "source": [
    "print(response.status_code)"
   ]
  },
  {
   "cell_type": "code",
   "execution_count": 13,
   "id": "8ac5c03f",
   "metadata": {},
   "outputs": [
    {
     "name": "stdout",
     "output_type": "stream",
     "text": [
      "<!DOCTYPE html>\n",
      "<html lang=\"en\">\n",
      "\n",
      "<head>\n",
      "    <meta charset=\"UTF-8\">\n",
      "    <title>httpbin.org</title>\n",
      "    <link href=\"https://fonts.googleapis.com/css?family=Open+Sans:400,700|Source+Code+Pro:300,600|Titillium+Web:400,600,700\"\n",
      "        rel=\"stylesheet\">\n",
      "    <link rel=\"stylesheet\" type=\"text/css\" href=\"/flasgger_static/swagger-ui.css\">\n",
      "    <link rel=\"icon\" type=\"image/png\" href=\"/static/favicon.ico\" sizes=\"64x64 32x32 16x16\" />\n",
      "    <style>\n",
      "        html {\n",
      "            box-sizing: border-box;\n",
      "            overflow: -moz-scrollbars-vertical;\n",
      "            overflow-y: scroll;\n",
      "        }\n",
      "\n",
      "        *,\n",
      "        *:before,\n",
      "        *:after {\n",
      "            box-sizing: inherit;\n",
      "        }\n",
      "\n",
      "        body {\n",
      "            margin: 0;\n",
      "            background: #fafafa;\n",
      "        }\n",
      "    </style>\n",
      "</head>\n",
      "\n",
      "<body>\n",
      "    <a href=\"https://github.com/requests/httpbin\" class=\"github-corner\" aria-label=\"View source on Github\">\n",
      "        <svg width=\"80\" height=\"80\" viewBox=\"0 0 250 250\" style=\"fill:#151513; color:#fff; position: absolute; top: 0; border: 0; right: 0;\"\n",
      "            aria-hidden=\"true\">\n",
      "            <path d=\"M0,0 L115,115 L130,115 L142,142 L250,250 L250,0 Z\"></path>\n",
      "            <path d=\"M128.3,109.0 C113.8,99.7 119.0,89.6 119.0,89.6 C122.0,82.7 120.5,78.6 120.5,78.6 C119.2,72.0 123.4,76.3 123.4,76.3 C127.3,80.9 125.5,87.3 125.5,87.3 C122.9,97.6 130.6,101.9 134.4,103.2\"\n",
      "                fill=\"currentColor\" style=\"transform-origin: 130px 106px;\" class=\"octo-arm\"></path>\n",
      "            <path d=\"M115.0,115.0 C114.9,115.1 118.7,116.5 119.8,115.4 L133.7,101.6 C136.9,99.2 139.9,98.4 142.2,98.6 C133.8,88.0 127.5,74.4 143.8,58.0 C148.5,53.4 154.0,51.2 159.7,51.0 C160.3,49.4 163.2,43.6 171.4,40.1 C171.4,40.1 176.1,42.5 178.8,56.2 C183.1,58.6 187.2,61.8 190.9,65.4 C194.5,69.0 197.7,73.2 200.1,77.6 C213.8,80.2 216.3,84.9 216.3,84.9 C212.7,93.1 206.9,96.0 205.4,96.6 C205.1,102.4 203.0,107.8 198.3,112.5 C181.9,128.9 168.3,122.5 157.7,114.1 C157.9,116.9 156.7,120.9 152.7,124.9 L141.0,136.5 C139.8,137.7 141.6,141.9 141.8,141.8 Z\"\n",
      "                fill=\"currentColor\" class=\"octo-body\"></path>\n",
      "        </svg>\n",
      "    </a>\n",
      "    <svg xmlns=\"http://www.w3.org/2000/svg\" xmlns:xlink=\"http://www.w3.org/1999/xlink\" style=\"position:absolute;width:0;height:0\">\n",
      "        <defs>\n",
      "            <symbol viewBox=\"0 0 20 20\" id=\"unlocked\">\n",
      "                <path d=\"M15.8 8H14V5.6C14 2.703 12.665 1 10 1 7.334 1 6 2.703 6 5.6V6h2v-.801C8 3.754 8.797 3 10 3c1.203 0 2 .754 2 2.199V8H4c-.553 0-1 .646-1 1.199V17c0 .549.428 1.139.951 1.307l1.197.387C5.672 18.861 6.55 19 7.1 19h5.8c.549 0 1.428-.139 1.951-.307l1.196-.387c.524-.167.953-.757.953-1.306V9.199C17 8.646 16.352 8 15.8 8z\"></path>\n",
      "            </symbol>\n",
      "\n",
      "            <symbol viewBox=\"0 0 20 20\" id=\"locked\">\n",
      "                <path d=\"M15.8 8H14V5.6C14 2.703 12.665 1 10 1 7.334 1 6 2.703 6 5.6V8H4c-.553 0-1 .646-1 1.199V17c0 .549.428 1.139.951 1.307l1.197.387C5.672 18.861 6.55 19 7.1 19h5.8c.549 0 1.428-.139 1.951-.307l1.196-.387c.524-.167.953-.757.953-1.306V9.199C17 8.646 16.352 8 15.8 8zM12 8H8V5.199C8 3.754 8.797 3 10 3c1.203 0 2 .754 2 2.199V8z\"\n",
      "                />\n",
      "            </symbol>\n",
      "\n",
      "            <symbol viewBox=\"0 0 20 20\" id=\"close\">\n",
      "                <path d=\"M14.348 14.849c-.469.469-1.229.469-1.697 0L10 11.819l-2.651 3.029c-.469.469-1.229.469-1.697 0-.469-.469-.469-1.229 0-1.697l2.758-3.15-2.759-3.152c-.469-.469-.469-1.228 0-1.697.469-.469 1.228-.469 1.697 0L10 8.183l2.651-3.031c.469-.469 1.228-.469 1.697 0 .469.469.469 1.229 0 1.697l-2.758 3.152 2.758 3.15c.469.469.469 1.229 0 1.698z\"\n",
      "                />\n",
      "            </symbol>\n",
      "\n",
      "            <symbol viewBox=\"0 0 20 20\" id=\"large-arrow\">\n",
      "                <path d=\"M13.25 10L6.109 2.58c-.268-.27-.268-.707 0-.979.268-.27.701-.27.969 0l7.83 7.908c.268.271.268.709 0 .979l-7.83 7.908c-.268.271-.701.27-.969 0-.268-.269-.268-.707 0-.979L13.25 10z\"\n",
      "                />\n",
      "            </symbol>\n",
      "\n",
      "            <symbol viewBox=\"0 0 20 20\" id=\"large-arrow-down\">\n",
      "                <path d=\"M17.418 6.109c.272-.268.709-.268.979 0s.271.701 0 .969l-7.908 7.83c-.27.268-.707.268-.979 0l-7.908-7.83c-.27-.268-.27-.701 0-.969.271-.268.709-.268.979 0L10 13.25l7.418-7.141z\"\n",
      "                />\n",
      "            </symbol>\n",
      "\n",
      "\n",
      "            <symbol viewBox=\"0 0 24 24\" id=\"jump-to\">\n",
      "                <path d=\"M19 7v4H5.83l3.58-3.59L8 6l-6 6 6 6 1.41-1.41L5.83 13H21V7z\" />\n",
      "            </symbol>\n",
      "\n",
      "            <symbol viewBox=\"0 0 24 24\" id=\"expand\">\n",
      "                <path d=\"M10 18h4v-2h-4v2zM3 6v2h18V6H3zm3 7h12v-2H6v2z\" />\n",
      "            </symbol>\n",
      "\n",
      "        </defs>\n",
      "    </svg>\n",
      "\n",
      "\n",
      "    <div id=\"swagger-ui\">\n",
      "        <div data-reactroot=\"\" class=\"swagger-ui\">\n",
      "            <div>\n",
      "                <div class=\"information-container wrapper\">\n",
      "                    <section class=\"block col-12\">\n",
      "                        <div class=\"info\">\n",
      "                            <hgroup class=\"main\">\n",
      "                                <h2 class=\"title\">httpbin.org\n",
      "                                    <small>\n",
      "                                        <pre class=\"version\">0.9.2</pre>\n",
      "                                    </small>\n",
      "                                </h2>\n",
      "                                <pre class=\"base-url\">[ Base URL: httpbin.org/ ]</pre>\n",
      "                            </hgroup>\n",
      "                            <div class=\"description\">\n",
      "                                <div class=\"markdown\">\n",
      "                                    <p>A simple HTTP Request &amp; Response Service.\n",
      "                                        <br>\n",
      "                                        <br>\n",
      "                                        <b>Run locally: </b>\n",
      "                                        <code>$ docker run -p 80:80 kennethreitz/httpbin</code>\n",
      "                                    </p>\n",
      "                                </div>\n",
      "                            </div>\n",
      "                            <div>\n",
      "                                <div>\n",
      "                                    <a href=\"https://kennethreitz.org\" target=\"_blank\">the developer - Website</a>\n",
      "                                </div>\n",
      "                                <a href=\"mailto:me@kennethreitz.org\">Send email to the developer</a>\n",
      "                            </div>\n",
      "                        </div>\n",
      "                        <!-- ADDS THE LOADER SPINNER -->\n",
      "                        <div class=\"loading-container\">\n",
      "                            <div class=\"loading\"></div>\n",
      "                        </div>\n",
      "\n",
      "                    </section>\n",
      "                </div>\n",
      "            </div>\n",
      "        </div>\n",
      "    </div>\n",
      "\n",
      "\n",
      "    <div class='swagger-ui'>\n",
      "        <div class=\"wrapper\">\n",
      "            <section class=\"clear\">\n",
      "                <span style=\"float: right;\">\n",
      "                    [Powered by\n",
      "                    <a target=\"_blank\" href=\"https://github.com/rochacbruno/flasgger\">Flasgger</a>]\n",
      "                    <br>\n",
      "                </span>\n",
      "            </section>\n",
      "        </div>\n",
      "    </div>\n",
      "\n",
      "\n",
      "\n",
      "    <script src=\"/flasgger_static/swagger-ui-bundle.js\"> </script>\n",
      "    <script src=\"/flasgger_static/swagger-ui-standalone-preset.js\"> </script>\n",
      "    <script src='/flasgger_static/lib/jquery.min.js' type='text/javascript'></script>\n",
      "    <script>\n",
      "\n",
      "        window.onload = function () {\n",
      "            \n",
      "\n",
      "            fetch(\"/spec.json\")\n",
      "                .then(function (response) {\n",
      "                    response.json()\n",
      "                        .then(function (json) {\n",
      "                            var current_protocol = window.location.protocol.slice(0, -1);\n",
      "                            if (json.schemes[0] != current_protocol) {\n",
      "                                // Switches scheme to the current in use\n",
      "                                var other_protocol = json.schemes[0];\n",
      "                                json.schemes[0] = current_protocol;\n",
      "                                json.schemes[1] = other_protocol;\n",
      "\n",
      "                            }\n",
      "                            json.host = window.location.host;  // sets the current host\n",
      "\n",
      "                            const ui = SwaggerUIBundle({\n",
      "                                spec: json,\n",
      "                                validatorUrl: null,\n",
      "                                dom_id: '#swagger-ui',\n",
      "                                deepLinking: true,\n",
      "                                jsonEditor: true,\n",
      "                                docExpansion: \"none\",\n",
      "                                apisSorter: \"alpha\",\n",
      "                                //operationsSorter: \"alpha\",\n",
      "                                presets: [\n",
      "                                    SwaggerUIBundle.presets.apis,\n",
      "                                    // yay ES6 modules ↘\n",
      "                                    Array.isArray(SwaggerUIStandalonePreset) ? SwaggerUIStandalonePreset : SwaggerUIStandalonePreset.default\n",
      "                                ],\n",
      "                                plugins: [\n",
      "                                    SwaggerUIBundle.plugins.DownloadUrl\n",
      "                                ],\n",
      "            \n",
      "            // layout: \"StandaloneLayout\"  // uncomment to enable the green top header\n",
      "        })\n",
      "\n",
      "        window.ui = ui\n",
      "\n",
      "        // uncomment to rename the top brand if layout is enabled\n",
      "        // $(\".topbar-wrapper .link span\").replaceWith(\"<span>httpbin</span>\");\n",
      "        })\n",
      "    })\n",
      "}\n",
      "    </script>  <div class='swagger-ui'>\n",
      "    <div class=\"wrapper\">\n",
      "        <section class=\"block col-12 block-desktop col-12-desktop\">\n",
      "            <div>\n",
      "\n",
      "                <h2>Other Utilities</h2>\n",
      "\n",
      "                <ul>\n",
      "                    <li>\n",
      "                        <a href=\"/forms/post\">HTML form</a> that posts to /post /forms/post</li>\n",
      "                </ul>\n",
      "\n",
      "                <br />\n",
      "                <br />\n",
      "            </div>\n",
      "        </section>\n",
      "    </div>\n",
      "</div>\n",
      "</body>\n",
      "\n",
      "</html>\n"
     ]
    }
   ],
   "source": [
    "print(response.text)"
   ]
  },
  {
   "cell_type": "markdown",
   "id": "e8c3d9aa",
   "metadata": {},
   "source": [
    "Requests automatically attempts to make an educated guess about the encoding based on the HTTP header, therefore providing a value is unnecessary. In rare cases, changing the encoding may be needed and it can be done by specifying a value to response.encoding. Our specified value will then be used whenever we make a call.\n",
    "\n",
    "Responses can also be decoded to the JSON format. HTTPbin doesn’t send a request that can be decoded into JSON. Attempting to do so will raise an exception. For explanatory purposes, let’s use Github’s API:"
   ]
  },
  {
   "cell_type": "code",
   "execution_count": 14,
   "id": "b88e2ca7",
   "metadata": {},
   "outputs": [
    {
     "name": "stdout",
     "output_type": "stream",
     "text": [
      "application/json; charset=utf-8\n",
      "{'current_user_url': 'https://api.github.com/user', 'current_user_authorizations_html_url': 'https://github.com/settings/connections/applications{/client_id}', 'authorizations_url': 'https://api.github.com/authorizations', 'code_search_url': 'https://api.github.com/search/code?q={query}{&page,per_page,sort,order}', 'commit_search_url': 'https://api.github.com/search/commits?q={query}{&page,per_page,sort,order}', 'emails_url': 'https://api.github.com/user/emails', 'emojis_url': 'https://api.github.com/emojis', 'events_url': 'https://api.github.com/events', 'feeds_url': 'https://api.github.com/feeds', 'followers_url': 'https://api.github.com/user/followers', 'following_url': 'https://api.github.com/user/following{/target}', 'gists_url': 'https://api.github.com/gists{/gist_id}', 'hub_url': 'https://api.github.com/hub', 'issue_search_url': 'https://api.github.com/search/issues?q={query}{&page,per_page,sort,order}', 'issues_url': 'https://api.github.com/issues', 'keys_url': 'https://api.github.com/user/keys', 'label_search_url': 'https://api.github.com/search/labels?q={query}&repository_id={repository_id}{&page,per_page}', 'notifications_url': 'https://api.github.com/notifications', 'organization_url': 'https://api.github.com/orgs/{org}', 'organization_repositories_url': 'https://api.github.com/orgs/{org}/repos{?type,page,per_page,sort}', 'organization_teams_url': 'https://api.github.com/orgs/{org}/teams', 'public_gists_url': 'https://api.github.com/gists/public', 'rate_limit_url': 'https://api.github.com/rate_limit', 'repository_url': 'https://api.github.com/repos/{owner}/{repo}', 'repository_search_url': 'https://api.github.com/search/repositories?q={query}{&page,per_page,sort,order}', 'current_user_repositories_url': 'https://api.github.com/user/repos{?type,page,per_page,sort}', 'starred_url': 'https://api.github.com/user/starred{/owner}{/repo}', 'starred_gists_url': 'https://api.github.com/gists/starred', 'topic_search_url': 'https://api.github.com/search/topics?q={query}{&page,per_page}', 'user_url': 'https://api.github.com/users/{user}', 'user_organizations_url': 'https://api.github.com/user/orgs', 'user_repositories_url': 'https://api.github.com/users/{user}/repos{?type,page,per_page,sort}', 'user_search_url': 'https://api.github.com/search/users?q={query}{&page,per_page,sort,order}'}\n"
     ]
    }
   ],
   "source": [
    "response = requests.get('http://api.github.com')\n",
    "print(response.headers['content-type'])\n",
    "print(response.json())"
   ]
  },
  {
   "cell_type": "markdown",
   "id": "36c2df71",
   "metadata": {},
   "source": [
    "**Using Python request headers**\n",
    "\n",
    "Response headers do not contain any content of the original message, headers hold many important details of the response such as information about the server, the date, encoding, etc. Every detail can be acquired from the initial response by making a call:"
   ]
  },
  {
   "cell_type": "code",
   "execution_count": 15,
   "id": "7ef3b039",
   "metadata": {},
   "outputs": [
    {
     "name": "stdout",
     "output_type": "stream",
     "text": [
      "{'Date': 'Tue, 20 May 2025 19:17:26 GMT', 'Content-Type': 'application/json; charset=utf-8', 'Cache-Control': 'public, max-age=60, s-maxage=60', 'Vary': 'Accept,Accept-Encoding, Accept, X-Requested-With', 'ETag': 'W/\"4f825cc84e1c733059d46e76e6df9db557ae5254f9625dfe8e1b09499c449438\"', 'X-GitHub-Media-Type': 'github.v3; format=json', 'x-github-api-version-selected': '2022-11-28', 'Access-Control-Expose-Headers': 'ETag, Link, Location, Retry-After, X-GitHub-OTP, X-RateLimit-Limit, X-RateLimit-Remaining, X-RateLimit-Used, X-RateLimit-Resource, X-RateLimit-Reset, X-OAuth-Scopes, X-Accepted-OAuth-Scopes, X-Poll-Interval, X-GitHub-Media-Type, X-GitHub-SSO, X-GitHub-Request-Id, Deprecation, Sunset', 'Access-Control-Allow-Origin': '*', 'Strict-Transport-Security': 'max-age=31536000; includeSubdomains; preload', 'X-Frame-Options': 'deny', 'X-Content-Type-Options': 'nosniff', 'X-XSS-Protection': '0', 'Referrer-Policy': 'origin-when-cross-origin, strict-origin-when-cross-origin', 'Content-Security-Policy': \"default-src 'none'\", 'Content-Encoding': 'gzip', 'Server': 'github.com', 'Accept-Ranges': 'bytes', 'X-RateLimit-Limit': '60', 'X-RateLimit-Remaining': '59', 'X-RateLimit-Reset': '1747772246', 'X-RateLimit-Resource': 'core', 'X-RateLimit-Used': '1', 'Content-Length': '510', 'X-GitHub-Request-Id': '58DF:272521:1F9AAD9:3F22C6D:682CD545'}\n"
     ]
    }
   ],
   "source": [
    "print(response.headers)"
   ]
  },
  {
   "cell_type": "code",
   "execution_count": 16,
   "id": "45ccb2aa",
   "metadata": {},
   "outputs": [
    {
     "name": "stdout",
     "output_type": "stream",
     "text": [
      "Tue, 20 May 2025 19:17:26 GMT\n"
     ]
    }
   ],
   "source": [
    "# Adding parameters to the will list out a part of the response\n",
    "print(response.headers['Date'])"
   ]
  },
  {
   "cell_type": "markdown",
   "id": "43ebcaab",
   "metadata": {},
   "source": [
    "We can also send custom Python requests headers. Dictionary-type objects are used yet again, although this time they have to be created. Headers are passed in an identical manner to parameters. To check whether our request header has been sent successfully we will need to make the call response.request.headers:"
   ]
  },
  {
   "cell_type": "code",
   "execution_count": 18,
   "id": "5e16c9de",
   "metadata": {},
   "outputs": [
    {
     "name": "stdout",
     "output_type": "stream",
     "text": [
      "{'user-agent': 'my-agent/1.0.1', 'Accept-Encoding': 'gzip, deflate', 'Accept': '*/*', 'Connection': 'keep-alive'}\n"
     ]
    }
   ],
   "source": [
    "headers = {'user-agent': 'my-agent/1.0.1'} # esto es para el navegador que se llama google chrome\n",
    "response = requests.get('http://httpbin.org/', headers=headers)\n",
    "print(response.request.headers)"
   ]
  },
  {
   "cell_type": "markdown",
   "id": "5ae97a3c",
   "metadata": {},
   "source": [
    "**Python requests: POST**\n",
    "\n",
    "Sending a Python POST request is the second most used HTTP method. They are used to create a resource on a server with specified data.  Sending a POST request is almost as simple as sending a GET:"
   ]
  },
  {
   "cell_type": "code",
   "execution_count": 19,
   "id": "bf8e45c5",
   "metadata": {},
   "outputs": [],
   "source": [
    "response = requests.post('https://httpbin.org/post', data = {'key':'value'})"
   ]
  },
  {
   "cell_type": "code",
   "execution_count": 20,
   "id": "e17f163b",
   "metadata": {},
   "outputs": [
    {
     "name": "stdout",
     "output_type": "stream",
     "text": [
      "{\n",
      "  \"args\": {}, \n",
      "  \"data\": \"\", \n",
      "  \"files\": {}, \n",
      "  \"form\": {\n",
      "    \"key\": \"value\"\n",
      "  }, \n",
      "  \"headers\": {\n",
      "    \"Accept\": \"*/*\", \n",
      "    \"Accept-Encoding\": \"gzip, deflate\", \n",
      "    \"Content-Length\": \"9\", \n",
      "    \"Content-Type\": \"application/x-www-form-urlencoded\", \n",
      "    \"Host\": \"httpbin.org\", \n",
      "    \"User-Agent\": \"python-requests/2.32.3\", \n",
      "    \"X-Amzn-Trace-Id\": \"Root=1-682cd6fb-73ef3a047f2494751c136f2f\"\n",
      "  }, \n",
      "  \"json\": null, \n",
      "  \"origin\": \"190.239.94.247\", \n",
      "  \"url\": \"https://httpbin.org/post\"\n",
      "}\n",
      "\n"
     ]
    }
   ],
   "source": [
    "print(response.text)"
   ]
  },
  {
   "cell_type": "markdown",
   "id": "959d7eaf",
   "metadata": {},
   "source": [
    "In most cases, specifying the data in the POST request might not be enough. Requests library accepts arguments from dictionary objects which can be utilized to send more advanced data:"
   ]
  },
  {
   "cell_type": "code",
   "execution_count": 21,
   "id": "38afb14f",
   "metadata": {},
   "outputs": [],
   "source": [
    "payload = {'key1': 'value1', 'key2': 'value2'}\n",
    "response = requests.post('https://httpbin.org/post', data = payload)"
   ]
  },
  {
   "cell_type": "markdown",
   "id": "7b45f43e",
   "metadata": {},
   "source": [
    "At times, sending JSON POST requests can be necessary. Requests have an added feature that automatically converts the POST request data into JSON."
   ]
  },
  {
   "cell_type": "code",
   "execution_count": 22,
   "id": "f75a2fd8",
   "metadata": {},
   "outputs": [
    {
     "name": "stdout",
     "output_type": "stream",
     "text": [
      "{'args': {}, 'data': '{\"key1\": \"value1\", \"key2\": \"value2\"}', 'files': {}, 'form': {}, 'headers': {'Accept': '*/*', 'Accept-Encoding': 'gzip, deflate', 'Content-Length': '36', 'Content-Type': 'application/json', 'Host': 'httpbin.org', 'User-Agent': 'python-requests/2.32.3', 'X-Amzn-Trace-Id': 'Root=1-682cd757-664f3a525d1660c0629292db'}, 'json': {'key1': 'value1', 'key2': 'value2'}, 'origin': '190.239.94.247', 'url': 'https://httpbin.org/post'}\n"
     ]
    }
   ],
   "source": [
    "payload = {'key1': 'value1', 'key2': 'value2'}\n",
    "response = requests.post('https://httpbin.org/post', json = payload)\n",
    "print(response.json())"
   ]
  },
  {
   "cell_type": "markdown",
   "id": "20257b8f",
   "metadata": {},
   "source": [
    "Alternatively, the json library might be used to convert dictionaries into JSON objects. A new import will be required to change the object type:"
   ]
  },
  {
   "cell_type": "code",
   "execution_count": 23,
   "id": "300fcabd",
   "metadata": {},
   "outputs": [
    {
     "name": "stdout",
     "output_type": "stream",
     "text": [
      "{'args': {}, 'data': '{\"key1\": \"value1\", \"key2\": \"value2\"}', 'files': {}, 'form': {}, 'headers': {'Accept': '*/*', 'Accept-Encoding': 'gzip, deflate', 'Content-Length': '36', 'Content-Type': 'application/json', 'Host': 'httpbin.org', 'User-Agent': 'python-requests/2.32.3', 'X-Amzn-Trace-Id': 'Root=1-682cd763-5f25412e5c31246b04de6eb0'}, 'json': {'key1': 'value1', 'key2': 'value2'}, 'origin': '190.239.94.247', 'url': 'https://httpbin.org/post'}\n"
     ]
    }
   ],
   "source": [
    "import json\n",
    "\n",
    "payload = {\n",
    "    'key1': 'value1',\n",
    "    'key2': 'value2'\n",
    "}\n",
    "\n",
    "response = requests.post('https://httpbin.org/post', json=payload)  # ✅ más limpio\n",
    "print(response.json())"
   ]
  },
  {
   "cell_type": "markdown",
   "id": "eaae6ef8",
   "metadata": {},
   "source": [
    "**Other HTTP methods**  \n",
    "* PUT – replaces all the current representations of the target resource with the submitted content."
   ]
  },
  {
   "cell_type": "code",
   "execution_count": 24,
   "id": "b746bf4b",
   "metadata": {},
   "outputs": [],
   "source": [
    "response = requests.put('https://httpbin.org/post', data = \n",
    "{'key':'value'})"
   ]
  },
  {
   "cell_type": "markdown",
   "id": "a04b656a",
   "metadata": {},
   "source": [
    "* DELETE – removes all the existing representations of the target resource given by URL.\n",
    "\n",
    "requests.delete(url, params={key: value}, args)"
   ]
  },
  {
   "cell_type": "code",
   "execution_count": 25,
   "id": "69029425",
   "metadata": {},
   "outputs": [],
   "source": [
    "# Making a DELETE request\n",
    "response = requests.delete('https://httpbin.org/delete')"
   ]
  },
  {
   "cell_type": "code",
   "execution_count": 26,
   "id": "efc7c516",
   "metadata": {},
   "outputs": [
    {
     "name": "stdout",
     "output_type": "stream",
     "text": [
      "200\n"
     ]
    }
   ],
   "source": [
    "print(response.status_code)"
   ]
  },
  {
   "cell_type": "markdown",
   "id": "f138b42f",
   "metadata": {},
   "source": [
    "* HEAD – Like GET, but just transfers the status and header section.\n",
    "\n",
    "requests.head(url, **kwargs)"
   ]
  },
  {
   "cell_type": "markdown",
   "id": "35a913a4",
   "metadata": {},
   "source": [
    "* OPTIONS – states the communication options for the target resource.\n",
    "\n",
    "response = requests.options(url)"
   ]
  },
  {
   "cell_type": "markdown",
   "id": "5f1368f0",
   "metadata": {},
   "source": [
    "* PATCH – applies modifications to a specified resource.\n",
    "\n",
    "requests.patch(url, params={key: value}, args)"
   ]
  },
  {
   "cell_type": "markdown",
   "id": "3ca7b020",
   "metadata": {},
   "source": [
    "**What is an Authenticated Request?**\n",
    "\n",
    "An authenticated request is a type of request where the sender must provide some form of authentication to access the requested resource from a session instance. The authentication mechanism can vary, but it usually involves sending some token or credentials along with the request.\n",
    "\n",
    "**Sending Data via Authenticated Requests**\n",
    "\n",
    "\n",
    "To send data via authenticated requests, we first need to obtain the necessary authentication credentials. This can vary depending on the API or service we're working with, but some common authentication methods include API keys, OAuth tokens, and basic authentication.\n",
    "\n",
    "Once we have the authentication credentials, we can use the requests library to send the request with the appropriate authentication headers. Here's an example of how to send a POST request with a JSON payload and basic authentication. You can manually add query strings to the URL to change the payload destination:"
   ]
  },
  {
   "cell_type": "code",
   "execution_count": 27,
   "id": "68cd754b",
   "metadata": {},
   "outputs": [
    {
     "name": "stdout",
     "output_type": "stream",
     "text": [
      "Error sending data: <HTML><HEAD>\n",
      "<TITLE>Access Denied</TITLE>\n",
      "</HEAD><BODY>\n",
      "<H1>Access Denied</H1>\n",
      " \n",
      "You don't have permission to access \"http&#58;&#47;&#47;example&#46;com&#47;api&#47;data\" on this server.<P>\n",
      "Reference&#32;&#35;18&#46;45a33017&#46;1747769264&#46;7838d633\n",
      "<P>https&#58;&#47;&#47;errors&#46;edgesuite&#46;net&#47;18&#46;45a33017&#46;1747769264&#46;7838d633</P>\n",
      "</BODY>\n",
      "</HTML>\n",
      "\n"
     ]
    }
   ],
   "source": [
    "url = 'https://example.com/api/data'\n",
    "payload = {'key1': 'value1', 'key2': 'value2'}\n",
    "auth = ('username', 'password')\n",
    "headers = {'Content-Type': 'application/json'}\n",
    "\n",
    "response = requests.post(url, json=payload, auth=auth, headers=headers)\n",
    "\n",
    "if response.status_code == 200:\n",
    "    print('Data sent successfully')\n",
    "else:\n",
    "    print('Error sending data:', response.text)"
   ]
  },
  {
   "cell_type": "code",
   "execution_count": 28,
   "id": "0bb2d029",
   "metadata": {},
   "outputs": [
    {
     "name": "stdout",
     "output_type": "stream",
     "text": [
      "Error retrieving data: <!doctype html>\n",
      "<html>\n",
      "<head>\n",
      "    <title>Example Domain</title>\n",
      "\n",
      "    <meta charset=\"utf-8\" />\n",
      "    <meta http-equiv=\"Content-type\" content=\"text/html; charset=utf-8\" />\n",
      "    <meta name=\"viewport\" content=\"width=device-width, initial-scale=1\" />\n",
      "    <style type=\"text/css\">\n",
      "    body {\n",
      "        background-color: #f0f0f2;\n",
      "        margin: 0;\n",
      "        padding: 0;\n",
      "        font-family: -apple-system, system-ui, BlinkMacSystemFont, \"Segoe UI\", \"Open Sans\", \"Helvetica Neue\", Helvetica, Arial, sans-serif;\n",
      "        \n",
      "    }\n",
      "    div {\n",
      "        width: 600px;\n",
      "        margin: 5em auto;\n",
      "        padding: 2em;\n",
      "        background-color: #fdfdff;\n",
      "        border-radius: 0.5em;\n",
      "        box-shadow: 2px 3px 7px 2px rgba(0,0,0,0.02);\n",
      "    }\n",
      "    a:link, a:visited {\n",
      "        color: #38488f;\n",
      "        text-decoration: none;\n",
      "    }\n",
      "    @media (max-width: 700px) {\n",
      "        div {\n",
      "            margin: 0 auto;\n",
      "            width: auto;\n",
      "        }\n",
      "    }\n",
      "    </style>    \n",
      "</head>\n",
      "\n",
      "<body>\n",
      "<div>\n",
      "    <h1>Example Domain</h1>\n",
      "    <p>This domain is for use in illustrative examples in documents. You may use this\n",
      "    domain in literature without prior coordination or asking for permission.</p>\n",
      "    <p><a href=\"https://www.iana.org/domains/example\">More information...</a></p>\n",
      "</div>\n",
      "</body>\n",
      "</html>\n",
      "\n"
     ]
    }
   ],
   "source": [
    "import requests\n",
    "\n",
    "url = 'https://example.com/api/data'\n",
    "api_key = 'your-api-key'\n",
    "headers = {'Authorization': f'Bearer {api_key}'}\n",
    "\n",
    "response = requests.get(url, headers=headers)\n",
    "\n",
    "if response.status_code == 200:\n",
    "    data = response.json()\n",
    "    print('Data retrieved successfully:', data)\n",
    "else:\n",
    "    print('Error retrieving data:', response.text)"
   ]
  },
  {
   "cell_type": "markdown",
   "id": "aaf0086d",
   "metadata": {},
   "source": [
    "In the example above, we define the URL we want to retrieve data from and provide the API key using the Authorization header with the Bearer token type. We then use the requests.get() method to send the request with the appropriate authentication headers. If the request is successful, we print the retrieved data. Otherwise, we print an error message with the response text."
   ]
  },
  {
   "cell_type": "markdown",
   "id": "135699c5",
   "metadata": {},
   "source": [
    "**SSL Certificate Verification**\n",
    "\n",
    "Securing communication across multiple systems is critical to protect data confidentiality and integrity in today's environment. Using SSL/TLS certificates, which allow for encrypted connection between systems, is one technique to assure safe communication.\n",
    "\n",
    "SSL Verification is a process that checks the identity of the server with which we are connecting and assures the validity of the SSL/TLS certificate presented by the server. SSL Verification is essential for preventing man-in-the-middle attacks, in which an attacker intercepts communication between two parties and modifies the data being delivered."
   ]
  },
  {
   "cell_type": "code",
   "execution_count": 29,
   "id": "62034f04",
   "metadata": {},
   "outputs": [
    {
     "name": "stderr",
     "output_type": "stream",
     "text": [
      "d:\\UNA-PUNO\\UNA-SEMESTRES\\OCTAVO SEMESTRE\\.octavo\\Lib\\site-packages\\urllib3\\connectionpool.py:1097: InsecureRequestWarning: Unverified HTTPS request is being made to host 'example.com'. Adding certificate verification is strongly advised. See: https://urllib3.readthedocs.io/en/latest/advanced-usage.html#tls-warnings\n",
      "  warnings.warn(\n"
     ]
    },
    {
     "name": "stdout",
     "output_type": "stream",
     "text": [
      "Error retrieving data: <!doctype html>\n",
      "<html>\n",
      "<head>\n",
      "    <title>Example Domain</title>\n",
      "\n",
      "    <meta charset=\"utf-8\" />\n",
      "    <meta http-equiv=\"Content-type\" content=\"text/html; charset=utf-8\" />\n",
      "    <meta name=\"viewport\" content=\"width=device-width, initial-scale=1\" />\n",
      "    <style type=\"text/css\">\n",
      "    body {\n",
      "        background-color: #f0f0f2;\n",
      "        margin: 0;\n",
      "        padding: 0;\n",
      "        font-family: -apple-system, system-ui, BlinkMacSystemFont, \"Segoe UI\", \"Open Sans\", \"Helvetica Neue\", Helvetica, Arial, sans-serif;\n",
      "        \n",
      "    }\n",
      "    div {\n",
      "        width: 600px;\n",
      "        margin: 5em auto;\n",
      "        padding: 2em;\n",
      "        background-color: #fdfdff;\n",
      "        border-radius: 0.5em;\n",
      "        box-shadow: 2px 3px 7px 2px rgba(0,0,0,0.02);\n",
      "    }\n",
      "    a:link, a:visited {\n",
      "        color: #38488f;\n",
      "        text-decoration: none;\n",
      "    }\n",
      "    @media (max-width: 700px) {\n",
      "        div {\n",
      "            margin: 0 auto;\n",
      "            width: auto;\n",
      "        }\n",
      "    }\n",
      "    </style>    \n",
      "</head>\n",
      "\n",
      "<body>\n",
      "<div>\n",
      "    <h1>Example Domain</h1>\n",
      "    <p>This domain is for use in illustrative examples in documents. You may use this\n",
      "    domain in literature without prior coordination or asking for permission.</p>\n",
      "    <p><a href=\"https://www.iana.org/domains/example\">More information...</a></p>\n",
      "</div>\n",
      "</body>\n",
      "</html>\n",
      "\n"
     ]
    }
   ],
   "source": [
    "import requests\n",
    "\n",
    "url = 'https://example.com/api/data'\n",
    "response = requests.get(url, verify=False)\n",
    "\n",
    "if response.status_code == 200:\n",
    "    print('Data retrieved successfully')\n",
    "else:\n",
    "    print('Error retrieving data:', response.text)"
   ]
  },
  {
   "cell_type": "markdown",
   "id": "c169674f",
   "metadata": {},
   "source": [
    "To enable secure connection, the requests library performs SSL verification by default. If the server's SSL/TLS certificate is invalid, the library will throw a CertificateError exception. But, sometimes, we need to supply our SSL/TLS certificate or utilize a bespoke CA package.\n",
    "\n",
    "To enable SSL verification with a custom CA bundle, use the verify argument to give the path of the CA bundle file. Here's an example of using a custom CA bundle to send a GET request to a server with SSL verification enabled:"
   ]
  },
  {
   "cell_type": "code",
   "execution_count": 30,
   "id": "078b7842",
   "metadata": {},
   "outputs": [
    {
     "ename": "OSError",
     "evalue": "Could not find a suitable TLS CA certificate bundle, invalid path: /path/to/ca/bundle.crt",
     "output_type": "error",
     "traceback": [
      "\u001b[31m---------------------------------------------------------------------------\u001b[39m",
      "\u001b[31mOSError\u001b[39m                                   Traceback (most recent call last)",
      "\u001b[36mCell\u001b[39m\u001b[36m \u001b[39m\u001b[32mIn[30]\u001b[39m\u001b[32m, line 5\u001b[39m\n\u001b[32m      3\u001b[39m url = \u001b[33m'\u001b[39m\u001b[33mhttps://example.com/api/data\u001b[39m\u001b[33m'\u001b[39m\n\u001b[32m      4\u001b[39m ca_bundle = \u001b[33m'\u001b[39m\u001b[33m/path/to/ca/bundle.crt\u001b[39m\u001b[33m'\u001b[39m\n\u001b[32m----> \u001b[39m\u001b[32m5\u001b[39m response = \u001b[43mrequests\u001b[49m\u001b[43m.\u001b[49m\u001b[43mget\u001b[49m\u001b[43m(\u001b[49m\u001b[43murl\u001b[49m\u001b[43m,\u001b[49m\u001b[43m \u001b[49m\u001b[43mverify\u001b[49m\u001b[43m=\u001b[49m\u001b[43mca_bundle\u001b[49m\u001b[43m)\u001b[49m\n\u001b[32m      7\u001b[39m \u001b[38;5;28;01mif\u001b[39;00m response.status_code == \u001b[32m200\u001b[39m:\n\u001b[32m      8\u001b[39m     \u001b[38;5;28mprint\u001b[39m(\u001b[33m'\u001b[39m\u001b[33mData retrieved successfully\u001b[39m\u001b[33m'\u001b[39m)\n",
      "\u001b[36mFile \u001b[39m\u001b[32md:\\UNA-PUNO\\UNA-SEMESTRES\\OCTAVO SEMESTRE\\.octavo\\Lib\\site-packages\\requests\\api.py:73\u001b[39m, in \u001b[36mget\u001b[39m\u001b[34m(url, params, **kwargs)\u001b[39m\n\u001b[32m     62\u001b[39m \u001b[38;5;28;01mdef\u001b[39;00m\u001b[38;5;250m \u001b[39m\u001b[34mget\u001b[39m(url, params=\u001b[38;5;28;01mNone\u001b[39;00m, **kwargs):\n\u001b[32m     63\u001b[39m \u001b[38;5;250m    \u001b[39m\u001b[33mr\u001b[39m\u001b[33;03m\"\"\"Sends a GET request.\u001b[39;00m\n\u001b[32m     64\u001b[39m \n\u001b[32m     65\u001b[39m \u001b[33;03m    :param url: URL for the new :class:`Request` object.\u001b[39;00m\n\u001b[32m   (...)\u001b[39m\u001b[32m     70\u001b[39m \u001b[33;03m    :rtype: requests.Response\u001b[39;00m\n\u001b[32m     71\u001b[39m \u001b[33;03m    \"\"\"\u001b[39;00m\n\u001b[32m---> \u001b[39m\u001b[32m73\u001b[39m     \u001b[38;5;28;01mreturn\u001b[39;00m \u001b[43mrequest\u001b[49m\u001b[43m(\u001b[49m\u001b[33;43m\"\u001b[39;49m\u001b[33;43mget\u001b[39;49m\u001b[33;43m\"\u001b[39;49m\u001b[43m,\u001b[49m\u001b[43m \u001b[49m\u001b[43murl\u001b[49m\u001b[43m,\u001b[49m\u001b[43m \u001b[49m\u001b[43mparams\u001b[49m\u001b[43m=\u001b[49m\u001b[43mparams\u001b[49m\u001b[43m,\u001b[49m\u001b[43m \u001b[49m\u001b[43m*\u001b[49m\u001b[43m*\u001b[49m\u001b[43mkwargs\u001b[49m\u001b[43m)\u001b[49m\n",
      "\u001b[36mFile \u001b[39m\u001b[32md:\\UNA-PUNO\\UNA-SEMESTRES\\OCTAVO SEMESTRE\\.octavo\\Lib\\site-packages\\requests\\api.py:59\u001b[39m, in \u001b[36mrequest\u001b[39m\u001b[34m(method, url, **kwargs)\u001b[39m\n\u001b[32m     55\u001b[39m \u001b[38;5;66;03m# By using the 'with' statement we are sure the session is closed, thus we\u001b[39;00m\n\u001b[32m     56\u001b[39m \u001b[38;5;66;03m# avoid leaving sockets open which can trigger a ResourceWarning in some\u001b[39;00m\n\u001b[32m     57\u001b[39m \u001b[38;5;66;03m# cases, and look like a memory leak in others.\u001b[39;00m\n\u001b[32m     58\u001b[39m \u001b[38;5;28;01mwith\u001b[39;00m sessions.Session() \u001b[38;5;28;01mas\u001b[39;00m session:\n\u001b[32m---> \u001b[39m\u001b[32m59\u001b[39m     \u001b[38;5;28;01mreturn\u001b[39;00m \u001b[43msession\u001b[49m\u001b[43m.\u001b[49m\u001b[43mrequest\u001b[49m\u001b[43m(\u001b[49m\u001b[43mmethod\u001b[49m\u001b[43m=\u001b[49m\u001b[43mmethod\u001b[49m\u001b[43m,\u001b[49m\u001b[43m \u001b[49m\u001b[43murl\u001b[49m\u001b[43m=\u001b[49m\u001b[43murl\u001b[49m\u001b[43m,\u001b[49m\u001b[43m \u001b[49m\u001b[43m*\u001b[49m\u001b[43m*\u001b[49m\u001b[43mkwargs\u001b[49m\u001b[43m)\u001b[49m\n",
      "\u001b[36mFile \u001b[39m\u001b[32md:\\UNA-PUNO\\UNA-SEMESTRES\\OCTAVO SEMESTRE\\.octavo\\Lib\\site-packages\\requests\\sessions.py:589\u001b[39m, in \u001b[36mSession.request\u001b[39m\u001b[34m(self, method, url, params, data, headers, cookies, files, auth, timeout, allow_redirects, proxies, hooks, stream, verify, cert, json)\u001b[39m\n\u001b[32m    584\u001b[39m send_kwargs = {\n\u001b[32m    585\u001b[39m     \u001b[33m\"\u001b[39m\u001b[33mtimeout\u001b[39m\u001b[33m\"\u001b[39m: timeout,\n\u001b[32m    586\u001b[39m     \u001b[33m\"\u001b[39m\u001b[33mallow_redirects\u001b[39m\u001b[33m\"\u001b[39m: allow_redirects,\n\u001b[32m    587\u001b[39m }\n\u001b[32m    588\u001b[39m send_kwargs.update(settings)\n\u001b[32m--> \u001b[39m\u001b[32m589\u001b[39m resp = \u001b[38;5;28;43mself\u001b[39;49m\u001b[43m.\u001b[49m\u001b[43msend\u001b[49m\u001b[43m(\u001b[49m\u001b[43mprep\u001b[49m\u001b[43m,\u001b[49m\u001b[43m \u001b[49m\u001b[43m*\u001b[49m\u001b[43m*\u001b[49m\u001b[43msend_kwargs\u001b[49m\u001b[43m)\u001b[49m\n\u001b[32m    591\u001b[39m \u001b[38;5;28;01mreturn\u001b[39;00m resp\n",
      "\u001b[36mFile \u001b[39m\u001b[32md:\\UNA-PUNO\\UNA-SEMESTRES\\OCTAVO SEMESTRE\\.octavo\\Lib\\site-packages\\requests\\sessions.py:703\u001b[39m, in \u001b[36mSession.send\u001b[39m\u001b[34m(self, request, **kwargs)\u001b[39m\n\u001b[32m    700\u001b[39m start = preferred_clock()\n\u001b[32m    702\u001b[39m \u001b[38;5;66;03m# Send the request\u001b[39;00m\n\u001b[32m--> \u001b[39m\u001b[32m703\u001b[39m r = \u001b[43madapter\u001b[49m\u001b[43m.\u001b[49m\u001b[43msend\u001b[49m\u001b[43m(\u001b[49m\u001b[43mrequest\u001b[49m\u001b[43m,\u001b[49m\u001b[43m \u001b[49m\u001b[43m*\u001b[49m\u001b[43m*\u001b[49m\u001b[43mkwargs\u001b[49m\u001b[43m)\u001b[49m\n\u001b[32m    705\u001b[39m \u001b[38;5;66;03m# Total elapsed time of the request (approximately)\u001b[39;00m\n\u001b[32m    706\u001b[39m elapsed = preferred_clock() - start\n",
      "\u001b[36mFile \u001b[39m\u001b[32md:\\UNA-PUNO\\UNA-SEMESTRES\\OCTAVO SEMESTRE\\.octavo\\Lib\\site-packages\\requests\\adapters.py:639\u001b[39m, in \u001b[36mHTTPAdapter.send\u001b[39m\u001b[34m(self, request, stream, timeout, verify, cert, proxies)\u001b[39m\n\u001b[32m    636\u001b[39m \u001b[38;5;28;01mexcept\u001b[39;00m LocationValueError \u001b[38;5;28;01mas\u001b[39;00m e:\n\u001b[32m    637\u001b[39m     \u001b[38;5;28;01mraise\u001b[39;00m InvalidURL(e, request=request)\n\u001b[32m--> \u001b[39m\u001b[32m639\u001b[39m \u001b[38;5;28;43mself\u001b[39;49m\u001b[43m.\u001b[49m\u001b[43mcert_verify\u001b[49m\u001b[43m(\u001b[49m\u001b[43mconn\u001b[49m\u001b[43m,\u001b[49m\u001b[43m \u001b[49m\u001b[43mrequest\u001b[49m\u001b[43m.\u001b[49m\u001b[43murl\u001b[49m\u001b[43m,\u001b[49m\u001b[43m \u001b[49m\u001b[43mverify\u001b[49m\u001b[43m,\u001b[49m\u001b[43m \u001b[49m\u001b[43mcert\u001b[49m\u001b[43m)\u001b[49m\n\u001b[32m    640\u001b[39m url = \u001b[38;5;28mself\u001b[39m.request_url(request, proxies)\n\u001b[32m    641\u001b[39m \u001b[38;5;28mself\u001b[39m.add_headers(\n\u001b[32m    642\u001b[39m     request,\n\u001b[32m    643\u001b[39m     stream=stream,\n\u001b[32m   (...)\u001b[39m\u001b[32m    647\u001b[39m     proxies=proxies,\n\u001b[32m    648\u001b[39m )\n",
      "\u001b[36mFile \u001b[39m\u001b[32md:\\UNA-PUNO\\UNA-SEMESTRES\\OCTAVO SEMESTRE\\.octavo\\Lib\\site-packages\\requests\\adapters.py:328\u001b[39m, in \u001b[36mHTTPAdapter.cert_verify\u001b[39m\u001b[34m(self, conn, url, verify, cert)\u001b[39m\n\u001b[32m    325\u001b[39m cert_loc = verify\n\u001b[32m    327\u001b[39m \u001b[38;5;28;01mif\u001b[39;00m \u001b[38;5;129;01mnot\u001b[39;00m os.path.exists(cert_loc):\n\u001b[32m--> \u001b[39m\u001b[32m328\u001b[39m     \u001b[38;5;28;01mraise\u001b[39;00m \u001b[38;5;167;01mOSError\u001b[39;00m(\n\u001b[32m    329\u001b[39m         \u001b[33mf\u001b[39m\u001b[33m\"\u001b[39m\u001b[33mCould not find a suitable TLS CA certificate bundle, \u001b[39m\u001b[33m\"\u001b[39m\n\u001b[32m    330\u001b[39m         \u001b[33mf\u001b[39m\u001b[33m\"\u001b[39m\u001b[33minvalid path: \u001b[39m\u001b[38;5;132;01m{\u001b[39;00mcert_loc\u001b[38;5;132;01m}\u001b[39;00m\u001b[33m\"\u001b[39m\n\u001b[32m    331\u001b[39m     )\n\u001b[32m    333\u001b[39m \u001b[38;5;28;01mif\u001b[39;00m \u001b[38;5;129;01mnot\u001b[39;00m os.path.isdir(cert_loc):\n\u001b[32m    334\u001b[39m     conn.ca_certs = cert_loc\n",
      "\u001b[31mOSError\u001b[39m: Could not find a suitable TLS CA certificate bundle, invalid path: /path/to/ca/bundle.crt"
     ]
    }
   ],
   "source": [
    "import requests\n",
    "\n",
    "url = 'https://example.com/api/data'\n",
    "ca_bundle = '/path/to/ca/bundle.crt'\n",
    "response = requests.get(url, verify=ca_bundle)\n",
    "\n",
    "if response.status_code == 200:\n",
    "    print('Data retrieved successfully')\n",
    "else:\n",
    "    print('Error retrieving data:', response.text) "
   ]
  },
  {
   "cell_type": "code",
   "execution_count": 31,
   "id": "147f50d6",
   "metadata": {},
   "outputs": [
    {
     "name": "stdout",
     "output_type": "stream",
     "text": [
      "General error: Could not find a suitable TLS CA certificate bundle, invalid path: /etc/ssl/certs/ca-certificates.crt\n"
     ]
    }
   ],
   "source": [
    "url = 'https://httpbin.org/get'\n",
    "ca_bundle = '/etc/ssl/certs/ca-certificates.crt'  # Ajusta según tu sistema\n",
    "\n",
    "try:\n",
    "    response = requests.get(url, verify=ca_bundle)\n",
    "\n",
    "    if response.status_code == 200:\n",
    "        print('Data retrieved successfully')\n",
    "    else:\n",
    "        print('Error retrieving data:', response.text)\n",
    "\n",
    "except requests.exceptions.SSLError as e:\n",
    "    print(\"SSL certificate validation error:\", e)\n",
    "\n",
    "except Exception as e:\n",
    "    print(\"General error:\", e)"
   ]
  },
  {
   "cell_type": "markdown",
   "id": "119a5f48",
   "metadata": {},
   "source": [
    "**Bearer Token**\n",
    "\n",
    "Bearer tokens are often used in APIs for authentication and authorization. To use a bearer token with Python's requests repository, we can include it as a header in our HTTP requests. Here's an example of using a bearer token to send a GET request to an API:"
   ]
  },
  {
   "cell_type": "markdown",
   "id": "bbc7a779",
   "metadata": {},
   "source": [
    "In the preceding example, we define the URL for the API endpoint from which we wish to get data and give our bearer token as a header in the Authorization field of the requests using the headers argument. The get() method. If the request is successful (a 200 status code is given), we use the response.json() function to convert the JSON data returned by the API into a Python object. In that case, we print an error message and the response content."
   ]
  },
  {
   "cell_type": "markdown",
   "id": "df0c8d75",
   "metadata": {},
   "source": [
    "**Conclusion**\n",
    "\n",
    "Python Requests library is an incredibly powerful and easy-to-use tool that can be utilized to send HTTP requests. Understanding the basics is often enough to create simple applications or scripts.\n",
    "\n",
    "Want to find out more about developing Python scripts? Check out our Python web scraping tutorial that will help you develop your first data acquisition application! Our blog has plenty of both basic (how to run a Python script) and advanced guides for all your proxy and scraping needs!"
   ]
  },
  {
   "cell_type": "code",
   "execution_count": null,
   "id": "894154a9",
   "metadata": {},
   "outputs": [],
   "source": []
  }
 ],
 "metadata": {
  "kernelspec": {
   "display_name": ".octavo",
   "language": "python",
   "name": "python3"
  },
  "language_info": {
   "codemirror_mode": {
    "name": "ipython",
    "version": 3
   },
   "file_extension": ".py",
   "mimetype": "text/x-python",
   "name": "python",
   "nbconvert_exporter": "python",
   "pygments_lexer": "ipython3",
   "version": "3.13.1"
  }
 },
 "nbformat": 4,
 "nbformat_minor": 5
}
