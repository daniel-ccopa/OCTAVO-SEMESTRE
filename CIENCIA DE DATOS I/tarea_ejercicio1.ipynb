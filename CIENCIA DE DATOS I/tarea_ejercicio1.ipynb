{
 "cells": [
  {
   "cell_type": "code",
   "execution_count": 1,
   "id": "8e770e49",
   "metadata": {},
   "outputs": [],
   "source": [
    "import requests"
   ]
  },
  {
   "cell_type": "code",
   "execution_count": 2,
   "id": "a6ffcb8a",
   "metadata": {},
   "outputs": [],
   "source": [
    "headers = {\"User-Agent\": \"MiAgentePersonalizado/1.0\"}"
   ]
  },
  {
   "cell_type": "code",
   "execution_count": 3,
   "id": "4b4047ce",
   "metadata": {},
   "outputs": [],
   "source": [
    "cookies = {\"mi_cookie\": \"valor_cookie\"}"
   ]
  },
  {
   "cell_type": "code",
   "execution_count": 4,
   "id": "84dbfe55",
   "metadata": {},
   "outputs": [],
   "source": [
    "# Crear una sesión persistente\n",
    "session = requests.Session()\n",
    "\n",
    "# Enviar una solicitud con header y cookie personalizados\n",
    "session.headers.update(headers)\n",
    "session.get(\"https://httpbin.org/cookies/set/mi_cookie/valor_cookie\")\n",
    "response = session.get(\"https://httpbin.org/cookies\")"
   ]
  },
  {
   "cell_type": "code",
   "execution_count": 5,
   "id": "75f6a84b",
   "metadata": {},
   "outputs": [],
   "source": [
    "# Guardar el contenido en un archivo local\n",
    "with open(\"respuesta.html\", \"w\", encoding=\"utf-8\") as file:\n",
    "    file.write(response.text)"
   ]
  },
  {
   "cell_type": "code",
   "execution_count": null,
   "id": "a2e371b5",
   "metadata": {},
   "outputs": [],
   "source": []
  }
 ],
 "metadata": {
  "kernelspec": {
   "display_name": ".octavo",
   "language": "python",
   "name": "python3"
  },
  "language_info": {
   "codemirror_mode": {
    "name": "ipython",
    "version": 3
   },
   "file_extension": ".py",
   "mimetype": "text/x-python",
   "name": "python",
   "nbconvert_exporter": "python",
   "pygments_lexer": "ipython3",
   "version": "3.13.1"
  }
 },
 "nbformat": 4,
 "nbformat_minor": 5
}
